{
 "cells": [
  {
   "cell_type": "code",
   "execution_count": 1,
   "id": "e7a31798-ae99-4bed-beb2-f591140b76b2",
   "metadata": {},
   "outputs": [],
   "source": [
    "# Import necessary libraries\n",
    "import os\n",
    "import sys\n",
    "import joblib\n",
    "import numpy as np\n",
    "import pandas as pd\n",
    "from joblib import dump\n",
    "import subprocess as sp\n",
    "import dask.array as da\n",
    "from pprint import pprint\n",
    "import matplotlib.pyplot as plt\n",
    "from odc.io.cgroups import get_cpu_quota\n",
    "from sklearn.metrics import roc_curve, auc, balanced_accuracy_score, f1_score\n",
    "from sklearn.model_selection import GridSearchCV, ShuffleSplit, KFold\n",
    "from sklearn.ensemble import RandomForestClassifier\n",
    "from sklearn.multiclass import OneVsRestClassifier\n",
    "from sklearn.preprocessing import label_binarize"
   ]
  },
  {
   "cell_type": "code",
   "execution_count": 2,
   "id": "9e075be4-cd97-4980-b36b-6b1c2f358f54",
   "metadata": {},
   "outputs": [],
   "source": [
    "training_data = \"L_training_data(1).txt\"\n",
    "\n",
    "# Define the classifier\n",
    "Classifier = RandomForestClassifier\n",
    "\n",
    "# Define the metric\n",
    "metric = 'balanced_accuracy'"
   ]
  },
  {
   "cell_type": "code",
   "execution_count": 3,
   "id": "e4229113-be14-49e4-9e24-b5658cf529e3",
   "metadata": {},
   "outputs": [],
   "source": [
    "# Set cross-validation splits\n",
    "inner_cv_splits = 5\n",
    "outer_cv_splits = 5\n",
    "test_size = 0.20"
   ]
  },
  {
   "cell_type": "code",
   "execution_count": 4,
   "id": "1adfc45b-41da-41db-ada3-aa83e9ce83ef",
   "metadata": {},
   "outputs": [
    {
     "name": "stdout",
     "output_type": "stream",
     "text": [
      "ncpus = 4\n"
     ]
    }
   ],
   "source": [
    "# Get the number of CPUs available\n",
    "ncpus = round(get_cpu_quota())\n",
    "print('ncpus = ' + str(ncpus))"
   ]
  },
  {
   "cell_type": "code",
   "execution_count": 5,
   "id": "73af725e-3f78-4137-b650-b901f5933f9c",
   "metadata": {},
   "outputs": [],
   "source": [
    "# load the data\n",
    "model_input = np.loadtxt(training_data)\n",
    "\n",
    "# load the column_names\n",
    "with open(training_data, 'r') as file:\n",
    "    header = file.readline()\n",
    "    \n",
    "column_names = header.split()[1:]\n",
    "\n",
    "# Extract relevant indices from training data\n",
    "model_col_indices = [column_names.index(var_name) for var_name in column_names[1:]]\n",
    "\n",
    "#convert variable names into sci-kit learn nomenclature\n",
    "X = model_input[:, model_col_indices]\n",
    "y = model_input[:, 0]"
   ]
  },
  {
   "cell_type": "code",
   "execution_count": 6,
   "id": "ac1e2c0c-be24-4e02-8f23-8b2e9ee5ffc5",
   "metadata": {},
   "outputs": [],
   "source": [
    "# Parameter grid for GridSearchCV\n",
    "param_grid = {\n",
    "    'class_weight': ['balanced'],\n",
    "    'n_estimators': [250],\n",
    "    'criterion': ['gini', 'entropy'],\n",
    "    'max_depth': [10],\n",
    "    'max_features': ['sqrt', 'log2']\n",
    "}"
   ]
  },
  {
   "cell_type": "code",
   "execution_count": null,
   "id": "e8e11790-ba7d-457d-a394-00a50a15c072",
   "metadata": {},
   "outputs": [
    {
     "name": "stdout",
     "output_type": "stream",
     "text": [
      "Working on 1/5 outer cv split\r"
     ]
    },
    {
     "name": "stderr",
     "output_type": "stream",
     "text": [
      "/opt/venv/lib/python3.10/site-packages/numpy/ma/core.py:2820: RuntimeWarning: invalid value encountered in cast\n",
      "  _data = np.array(data, dtype=dtype, copy=copy,\n"
     ]
    },
    {
     "name": "stdout",
     "output_type": "stream",
     "text": [
      "Working on 6/5 outer cv split\r"
     ]
    }
   ],
   "source": [
    "# Define the outer cross-validation\n",
    "outer_cv = KFold(n_splits=outer_cv_splits, shuffle=True, random_state=0)\n",
    "\n",
    "# lists to store results of CV testing\n",
    "acc = []\n",
    "f1 = []\n",
    "roc_auc = []\n",
    "\n",
    "i = 1\n",
    "for train_index, test_index in outer_cv.split(X, y):\n",
    "    print(f\"Working on {i}/{outer_cv_splits} outer cv split\", end='\\r')\n",
    "    model = Classifier(random_state=1)\n",
    "    \n",
    "    # index training, testing, and coordinate data\n",
    "    X_tr, X_tt = X[train_index, :], X[test_index, :]\n",
    "    y_tr, y_tt = y[train_index], y[test_index]\n",
    "    \n",
    "    # inner split on data within outer split\n",
    "    inner_cv = KFold(n_splits=inner_cv_splits, shuffle=True, random_state=0)\n",
    "    \n",
    "    clf = GridSearchCV(\n",
    "        estimator=model,\n",
    "        param_grid=param_grid,\n",
    "        scoring=metric,\n",
    "        n_jobs=ncpus,\n",
    "        refit=True,\n",
    "        cv=inner_cv,\n",
    "    )\n",
    "    \n",
    "    clf.fit(X_tr, y_tr)\n",
    "    # predict using the best model\n",
    "    best_model = clf.best_estimator_\n",
    "    pred = best_model.predict(X_tt)\n",
    "\n",
    "    # evaluate model w/ multiple metrics\n",
    "    # ROC AUC\n",
    "    y_tt_bin = label_binarize(y_tt, classes=np.unique(y))\n",
    "    probs = best_model.predict_proba(X_tt)\n",
    "    \n",
    "    for i in range(len(np.unique(y))):\n",
    "        fpr, tpr, _ = roc_curve(y_tt_bin[:, i], probs[:, i])\n",
    "        auc_ = auc(fpr, tpr)\n",
    "        roc_auc.append(auc_)\n",
    "    \n",
    "    # Overall accuracy\n",
    "    ac = balanced_accuracy_score(y_tt, pred)\n",
    "    acc.append(ac)\n",
    "    \n",
    "    # F1 scores\n",
    "    f1_ = f1_score(y_tt, pred, average='weighted')  # Use 'weighted' or 'macro' for multiclass\n",
    "    f1.append(f1_)\n",
    "    \n",
    "    i += 1\n",
    "\n",
    "print(f\"Mean ROC AUC: {np.mean(roc_auc):.4f}\")\n",
    "print(f\"Mean Accuracy: {np.mean(acc):.4f}\")\n",
    "print(f\"Mean F1 Score: {np.mean(f1):.4f}\")\n",
    "\n",
    "#Plot mean scores (ROC, Accuracy, F1 score) , graph\n",
    "#compare classification performance of neural networks, rf, \n"
   ]
  },
  {
   "cell_type": "code",
   "execution_count": null,
   "id": "c5d0d191-5f25-48fe-8819-45933023dc91",
   "metadata": {},
   "outputs": [],
   "source": [
    "print(\"=== Nested K-Fold Cross-Validation Scores ===\")\n",
    "print(\"Mean balanced accuracy: \" + str(round(np.mean(acc), 2)))\n",
    "print(\"Std balanced accuracy: \" + str(round(np.std(acc), 2)))\n",
    "print('\\n')\n",
    "print(\"Mean F1: \" + str(round(np.mean(f1), 2)))\n",
    "print(\"Std F1: \" + str(round(np.std(f1), 2)))\n",
    "print('\\n')\n",
    "print(\"Mean roc_auc: \" + str(round(np.mean(roc_auc), 3)))\n",
    "print(\"Std roc_auc: \" + str(round(np.std(roc_auc), 2)))\n",
    "print('=============================================')"
   ]
  },
  {
   "cell_type": "code",
   "execution_count": null,
   "id": "ed97d883-56f7-42d1-a360-34b106c4334e",
   "metadata": {},
   "outputs": [],
   "source": [
    "# Generate n_splits of train-test_split\n",
    "rs = ShuffleSplit(n_splits=outer_cv_splits, test_size=test_size, random_state=0)"
   ]
  },
  {
   "cell_type": "code",
   "execution_count": null,
   "id": "fa1a44c4-fd1c-44df-a89d-880bf41e573e",
   "metadata": {},
   "outputs": [],
   "source": [
    "# Instantiate a GridSearchCV\n",
    "clf = GridSearchCV(Classifier(),\n",
    "                   param_grid,\n",
    "                   scoring=metric,\n",
    "                   verbose=1,\n",
    "                   cv=rs.split(X, y),\n",
    "                   n_jobs=ncpus)\n",
    "\n",
    "clf.fit(X, y)\n",
    "\n",
    "print('\\n')\n",
    "print(\"The most accurate combination of tested parameters is: \")\n",
    "pprint(clf.best_params_)\n",
    "print('\\n')\n",
    "print(\"The \" + metric + \" score using these parameters is: \")\n",
    "print(round(clf.best_score_, 2))"
   ]
  },
  {
   "cell_type": "code",
   "execution_count": null,
   "id": "ef9577df-17bd-4f60-8b38-116a87931bea",
   "metadata": {},
   "outputs": [],
   "source": [
    "# Create a new model with the best parameters\n",
    "new_model = Classifier(**clf.best_params_, random_state=1, n_jobs=ncpus)\n",
    "new_model.fit(X, y)"
   ]
  },
  {
   "cell_type": "code",
   "execution_count": null,
   "id": "7c5203de-c9ba-45cf-b4ea-f4efdcbf0e63",
   "metadata": {},
   "outputs": [],
   "source": [
    "# Save the trained model\n",
    "dump(new_model, 'L_model(1).joblib')"
   ]
  },
  {
   "cell_type": "code",
   "execution_count": null,
   "id": "1f827490-65b9-4f59-9f97-8ec722ef0f00",
   "metadata": {},
   "outputs": [],
   "source": []
  }
 ],
 "metadata": {
  "kernelspec": {
   "display_name": "Python 3 (ipykernel)",
   "language": "python",
   "name": "python3"
  },
  "language_info": {
   "codemirror_mode": {
    "name": "ipython",
    "version": 3
   },
   "file_extension": ".py",
   "mimetype": "text/x-python",
   "name": "python",
   "nbconvert_exporter": "python",
   "pygments_lexer": "ipython3",
   "version": "3.10.12"
  }
 },
 "nbformat": 4,
 "nbformat_minor": 5
}
